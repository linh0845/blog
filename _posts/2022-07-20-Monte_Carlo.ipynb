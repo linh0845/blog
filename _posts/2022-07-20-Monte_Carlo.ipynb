{
 "cells": [
  {
   "cell_type": "markdown",
   "metadata": {},
   "source": [
    "## New-Product Development\n",
    "The Moore Pharmaceuticals has a new-product development decision which involves a lot of uncertainty. The company is interested in evaluating the risk associated with the project and need to answer 3 questions as follows:\n",
    "\n",
    "1. What is the risk that the net present value over the five years will not be positive?\n",
    "2. What are the chances that the product will show a positive cumulative net profit in the third year?\n",
    "3. In the fifth year, what minimum amount of cumulative profit are we likely to achieve with a probability of at least 0.90?\n",
    "\n",
    "Suppose that the project manager of Moore Pharmaceuticals has identified the following uncertain variables in the model and the distributions and parameters that describe them, as follows:\n",
    "\n",
    "Market size: normal with mean of 2,000,000 units and standard deviation of 400,000 units. \n",
    "R&D costs: uniform between $600,000,000 and $800,000,000. \n",
    "Clinical trial costs: normal with mean of $150,000,000 and standard deviation $30,000,000. \n",
    "Annual market growth factor: triangular with minimum = 2%, maximum 6%, and most likely = 3%. \n",
    "Annual market share growth rate: triangular with minimum = 15%, maximum = 25%, and most likely = 20%. \n"
   ]
  },
  {
   "cell_type": "code",
   "execution_count": 174,
   "metadata": {},
   "outputs": [],
   "source": [
    "import numpy as np\n",
    "import pandas as pd\n",
    "import statistics\n",
    "import random\n",
    "import matplotlib.pyplot as plt\n",
    "%matplotlib inline"
   ]
  },
  {
   "cell_type": "code",
   "execution_count": 175,
   "metadata": {},
   "outputs": [],
   "source": [
    "discount_rate = 0.09\n",
    "unit_sales = 130\n",
    "unit_cost = 40\n",
    "unit_margin = unit_sales - unit_cost\n",
    "market_size_mean = 2000000\n",
    "market_size_sd = 40000\n",
    "clinical_trial_cost_mean = 150000000\n",
    "clinical_trial_cost_sd = 30000000\n",
    "rd_cost_lower = 600000000\n",
    "rd_cost_upper = 800000000\n",
    "annual_mk_growth_min = .02\n",
    "annual_mk_growth_mode = .03\n",
    "annual_mk_growth_max = .06  \n",
    "share_growth_min = .15\n",
    "share_growth_mode = .2\n",
    "share_growth_max = .25\n",
    "iteration = 1000\n",
    "project_year = 5\n",
    "def project ():\n",
    "    outputs = []\n",
    "    for i in range(iteration):\n",
    "        rd_cost = np.random.uniform(rd_cost_lower,rd_cost_upper)\n",
    "        clinical_trial_cost = np.random.normal(clinical_trial_cost_mean,clinical_trial_cost_sd)\n",
    "        project_cost = round((rd_cost + clinical_trial_cost)/1000000)\n",
    "        share = .08\n",
    "        mksize = np.random.normal(market_size_mean,market_size_sd)\n",
    "        share_growth = list(np.random.triangular(share_growth_min,share_growth_mode,share_growth_max,project_year))\n",
    "        annual_mk_growth = list(np.random.triangular(annual_mk_growth_min,annual_mk_growth_mode,annual_mk_growth_max,project_year))\n",
    "        yearly_cum_profit = []\n",
    "        cumulated_profit = 0 - project_cost\n",
    "        npv_profit = 0\n",
    "        year = 0\n",
    "        while year < project_year:\n",
    "            profit = round((share * mksize *  unit_margin * 12)/1000000)\n",
    "            cumulated_profit = cumulated_profit + profit\n",
    "            yearly_cum_profit.append(cumulated_profit)\n",
    "            npv_profit = npv_profit + round(profit/(1+discount_rate)**(year+1))\n",
    "            share = share * (1+share_growth[year])\n",
    "            mksize = mksize * (1+ annual_mk_growth[year])\n",
    "            year += 1\n",
    "        npv_project = round((npv_profit - project_cost))\n",
    "        yearly_cum_profit.append(npv_project)\n",
    "        outputs.append(yearly_cum_profit)\n",
    "    return outputs\n"
   ]
  },
  {
   "cell_type": "code",
   "execution_count": 176,
   "metadata": {},
   "outputs": [
    {
     "data": {
      "text/html": [
       "<div>\n",
       "<style scoped>\n",
       "    .dataframe tbody tr th:only-of-type {\n",
       "        vertical-align: middle;\n",
       "    }\n",
       "\n",
       "    .dataframe tbody tr th {\n",
       "        vertical-align: top;\n",
       "    }\n",
       "\n",
       "    .dataframe thead th {\n",
       "        text-align: right;\n",
       "    }\n",
       "</style>\n",
       "<table border=\"1\" class=\"dataframe\">\n",
       "  <thead>\n",
       "    <tr style=\"text-align: right;\">\n",
       "      <th></th>\n",
       "      <th>year1</th>\n",
       "      <th>year2</th>\n",
       "      <th>year3</th>\n",
       "      <th>year4</th>\n",
       "      <th>year5</th>\n",
       "      <th>Total_NPV</th>\n",
       "    </tr>\n",
       "  </thead>\n",
       "  <tbody>\n",
       "    <tr>\n",
       "      <th>0</th>\n",
       "      <td>-631</td>\n",
       "      <td>-417</td>\n",
       "      <td>-155</td>\n",
       "      <td>170</td>\n",
       "      <td>574</td>\n",
       "      <td>230</td>\n",
       "    </tr>\n",
       "    <tr>\n",
       "      <th>1</th>\n",
       "      <td>-762</td>\n",
       "      <td>-545</td>\n",
       "      <td>-282</td>\n",
       "      <td>51</td>\n",
       "      <td>458</td>\n",
       "      <td>111</td>\n",
       "    </tr>\n",
       "    <tr>\n",
       "      <th>2</th>\n",
       "      <td>-727</td>\n",
       "      <td>-520</td>\n",
       "      <td>-256</td>\n",
       "      <td>69</td>\n",
       "      <td>470</td>\n",
       "      <td>128</td>\n",
       "    </tr>\n",
       "    <tr>\n",
       "      <th>3</th>\n",
       "      <td>-693</td>\n",
       "      <td>-478</td>\n",
       "      <td>-213</td>\n",
       "      <td>123</td>\n",
       "      <td>539</td>\n",
       "      <td>187</td>\n",
       "    </tr>\n",
       "    <tr>\n",
       "      <th>4</th>\n",
       "      <td>-613</td>\n",
       "      <td>-401</td>\n",
       "      <td>-143</td>\n",
       "      <td>174</td>\n",
       "      <td>578</td>\n",
       "      <td>238</td>\n",
       "    </tr>\n",
       "  </tbody>\n",
       "</table>\n",
       "</div>"
      ],
      "text/plain": [
       "   year1  year2  year3  year4  year5  Total_NPV\n",
       "0   -631   -417   -155    170    574        230\n",
       "1   -762   -545   -282     51    458        111\n",
       "2   -727   -520   -256     69    470        128\n",
       "3   -693   -478   -213    123    539        187\n",
       "4   -613   -401   -143    174    578        238"
      ]
     },
     "execution_count": 176,
     "metadata": {},
     "output_type": "execute_result"
    }
   ],
   "source": [
    "df = pd.DataFrame(project(), columns = ['year1','year2','year3','year4','year5','Total_NPV'])\n",
    "df.head()\n"
   ]
  },
  {
   "cell_type": "code",
   "execution_count": 177,
   "metadata": {},
   "outputs": [
    {
     "data": {
      "text/html": [
       "<div>\n",
       "<style scoped>\n",
       "    .dataframe tbody tr th:only-of-type {\n",
       "        vertical-align: middle;\n",
       "    }\n",
       "\n",
       "    .dataframe tbody tr th {\n",
       "        vertical-align: top;\n",
       "    }\n",
       "\n",
       "    .dataframe thead th {\n",
       "        text-align: right;\n",
       "    }\n",
       "</style>\n",
       "<table border=\"1\" class=\"dataframe\">\n",
       "  <thead>\n",
       "    <tr style=\"text-align: right;\">\n",
       "      <th></th>\n",
       "      <th>year1</th>\n",
       "      <th>year2</th>\n",
       "      <th>year3</th>\n",
       "      <th>year4</th>\n",
       "      <th>year5</th>\n",
       "      <th>Total_NPV</th>\n",
       "    </tr>\n",
       "  </thead>\n",
       "  <tbody>\n",
       "    <tr>\n",
       "      <th>count</th>\n",
       "      <td>1000.000000</td>\n",
       "      <td>1000.000000</td>\n",
       "      <td>1000.000000</td>\n",
       "      <td>1000.000000</td>\n",
       "      <td>1000.000000</td>\n",
       "      <td>1000.00000</td>\n",
       "    </tr>\n",
       "    <tr>\n",
       "      <th>mean</th>\n",
       "      <td>-678.592000</td>\n",
       "      <td>-463.461000</td>\n",
       "      <td>-195.745000</td>\n",
       "      <td>136.939000</td>\n",
       "      <td>551.353000</td>\n",
       "      <td>199.98200</td>\n",
       "    </tr>\n",
       "    <tr>\n",
       "      <th>std</th>\n",
       "      <td>64.784849</td>\n",
       "      <td>65.645227</td>\n",
       "      <td>67.705583</td>\n",
       "      <td>72.131784</td>\n",
       "      <td>80.790752</td>\n",
       "      <td>73.98103</td>\n",
       "    </tr>\n",
       "    <tr>\n",
       "      <th>min</th>\n",
       "      <td>-840.000000</td>\n",
       "      <td>-636.000000</td>\n",
       "      <td>-387.000000</td>\n",
       "      <td>-70.000000</td>\n",
       "      <td>316.000000</td>\n",
       "      <td>-12.00000</td>\n",
       "    </tr>\n",
       "    <tr>\n",
       "      <th>5%</th>\n",
       "      <td>-783.050000</td>\n",
       "      <td>-570.050000</td>\n",
       "      <td>-302.000000</td>\n",
       "      <td>22.950000</td>\n",
       "      <td>425.000000</td>\n",
       "      <td>84.90000</td>\n",
       "    </tr>\n",
       "    <tr>\n",
       "      <th>25%</th>\n",
       "      <td>-726.250000</td>\n",
       "      <td>-513.000000</td>\n",
       "      <td>-244.000000</td>\n",
       "      <td>83.000000</td>\n",
       "      <td>491.000000</td>\n",
       "      <td>144.00000</td>\n",
       "    </tr>\n",
       "    <tr>\n",
       "      <th>50%</th>\n",
       "      <td>-680.000000</td>\n",
       "      <td>-464.000000</td>\n",
       "      <td>-197.500000</td>\n",
       "      <td>134.500000</td>\n",
       "      <td>550.000000</td>\n",
       "      <td>198.00000</td>\n",
       "    </tr>\n",
       "    <tr>\n",
       "      <th>75%</th>\n",
       "      <td>-631.000000</td>\n",
       "      <td>-414.000000</td>\n",
       "      <td>-146.000000</td>\n",
       "      <td>190.000000</td>\n",
       "      <td>609.000000</td>\n",
       "      <td>253.00000</td>\n",
       "    </tr>\n",
       "    <tr>\n",
       "      <th>95%</th>\n",
       "      <td>-574.000000</td>\n",
       "      <td>-356.000000</td>\n",
       "      <td>-84.950000</td>\n",
       "      <td>257.050000</td>\n",
       "      <td>688.000000</td>\n",
       "      <td>325.10000</td>\n",
       "    </tr>\n",
       "    <tr>\n",
       "      <th>max</th>\n",
       "      <td>-509.000000</td>\n",
       "      <td>-293.000000</td>\n",
       "      <td>-1.000000</td>\n",
       "      <td>370.000000</td>\n",
       "      <td>838.000000</td>\n",
       "      <td>447.00000</td>\n",
       "    </tr>\n",
       "  </tbody>\n",
       "</table>\n",
       "</div>"
      ],
      "text/plain": [
       "             year1        year2        year3        year4        year5  \\\n",
       "count  1000.000000  1000.000000  1000.000000  1000.000000  1000.000000   \n",
       "mean   -678.592000  -463.461000  -195.745000   136.939000   551.353000   \n",
       "std      64.784849    65.645227    67.705583    72.131784    80.790752   \n",
       "min    -840.000000  -636.000000  -387.000000   -70.000000   316.000000   \n",
       "5%     -783.050000  -570.050000  -302.000000    22.950000   425.000000   \n",
       "25%    -726.250000  -513.000000  -244.000000    83.000000   491.000000   \n",
       "50%    -680.000000  -464.000000  -197.500000   134.500000   550.000000   \n",
       "75%    -631.000000  -414.000000  -146.000000   190.000000   609.000000   \n",
       "95%    -574.000000  -356.000000   -84.950000   257.050000   688.000000   \n",
       "max    -509.000000  -293.000000    -1.000000   370.000000   838.000000   \n",
       "\n",
       "        Total_NPV  \n",
       "count  1000.00000  \n",
       "mean    199.98200  \n",
       "std      73.98103  \n",
       "min     -12.00000  \n",
       "5%       84.90000  \n",
       "25%     144.00000  \n",
       "50%     198.00000  \n",
       "75%     253.00000  \n",
       "95%     325.10000  \n",
       "max     447.00000  "
      ]
     },
     "execution_count": 177,
     "metadata": {},
     "output_type": "execute_result"
    }
   ],
   "source": [
    "df.describe(percentiles=[.95, .75, .5, .25, .05])"
   ]
  },
  {
   "cell_type": "code",
   "execution_count": 178,
   "metadata": {},
   "outputs": [
    {
     "data": {
      "text/plain": [
       "<AxesSubplot:ylabel='Frequency'>"
      ]
     },
     "execution_count": 178,
     "metadata": {},
     "output_type": "execute_result"
    },
    {
     "data": {
      "image/png": "[encoded data removed]",
      "text/plain": [
       "<Figure size 432x288 with 1 Axes>"
      ]
     },
     "metadata": {
      "needs_background": "light"
     },
     "output_type": "display_data"
    }
   ],
   "source": [
    "df['Total_NPV'].plot.hist(bins=100)\n",
    "# df['Total_NPV'].plot.kde()"
   ]
  },
  {
   "cell_type": "markdown",
   "metadata": {},
   "source": [
    "## Risk analysis\n",
    "\n",
    "1. What is the probability that the net present value over the 5 years will not be positive? >>> Done. P(x < 0) of Total NPV\n",
    "\n",
    "2. What are the chances that the product will show a cumulative net profit in the third year? >>> Pending. P(x > 0) in Year 3\n",
    "\n",
    "3. What cumulative profit in the fifth year are we likely to realize with a probability of at least 0.90? Or in the fifth year, what minimum amount of cumulative profit are we likely to achieve with a probability of at\n",
    "least 0.90? ~ we are looking for the 10th percentile"
   ]
  },
  {
   "cell_type": "code",
   "execution_count": 179,
   "metadata": {},
   "outputs": [
    {
     "name": "stdout",
     "output_type": "stream",
     "text": [
      "Chance of npv < threshold 0M is: 0%\n"
     ]
    }
   ],
   "source": [
    "threshold_x1 = 0\n",
    "p_x1 = sum(map(lambda x: x < threshold_x1, df['Total_NPV']))/len(df)\n",
    "p_x1_display = \"{:.0%}\".format(p_x1)\n",
    "print('Chance of npv < threshold ' + str(threshold_x1) + 'M is: ' + str(p_x1_display))"
   ]
  },
  {
   "cell_type": "code",
   "execution_count": 180,
   "metadata": {},
   "outputs": [
    {
     "name": "stdout",
     "output_type": "stream",
     "text": [
      "Chance of year 3 cumulated net profit > threshold 0M is: 0%\n"
     ]
    }
   ],
   "source": [
    "threshold_x2 = 0\n",
    "p_x2 = sum(map(lambda x: x > threshold_x2, df['year3']))/len(df)\n",
    "p_x2_display = \"{:.0%}\".format(p_x2)\n",
    "print('Chance of year 3 cumulated net profit > threshold ' + str(threshold_x2) + 'M is: ' + str(p_x2_display))"
   ]
  },
  {
   "cell_type": "code",
   "execution_count": 181,
   "metadata": {},
   "outputs": [
    {
     "name": "stdout",
     "output_type": "stream",
     "text": [
      "Minimum amount of cumulative profit are we likely to achieve in year 5 is: 449.0\n"
     ]
    }
   ],
   "source": [
    "print('Minimum amount of cumulative profit are we likely to achieve in year 5 is: ' + str(np.percentile(df['year5'],10)))"
   ]
  }
 ],
 "metadata": {
  "kernelspec": {
   "display_name": "Python 3.9.7 ('base')",
   "language": "python",
   "name": "python3"
  },
  "language_info": {
   "codemirror_mode": {
    "name": "ipython",
    "version": 3
   },
   "file_extension": ".py",
   "mimetype": "text/x-python",
   "name": "python",
   "nbconvert_exporter": "python",
   "pygments_lexer": "ipython3",
   "version": "3.9.7"
  },
  "orig_nbformat": 4,
  "vscode": {
   "interpreter": {
    "hash": "400abeb07e2de710d233e889f28212ef35c00905d38b1e68c90d127b6395d863"
   }
  }
 },
 "nbformat": 4,
 "nbformat_minor": 2
}
